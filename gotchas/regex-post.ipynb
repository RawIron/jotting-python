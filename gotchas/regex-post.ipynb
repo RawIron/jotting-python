{
 "cells": [
  {
   "cell_type": "markdown",
   "metadata": {},
   "source": [
    "# Python Regex - greediness and overlapping matches"
   ]
  },
  {
   "cell_type": "markdown",
   "metadata": {},
   "source": [
    "Learning regular expressions in Python in most cases starts with simple patterns for match, search or replace.\n",
    "Once those basic patterns are second nature the more advanced patterns want to be mastered.\n",
    "And for those a look into the regex matching algorithm is a good start.\n",
    "\n",
    "The regex matching algorithm does\n",
    "* greedy repetition qualifier\n",
    "* non-overlapping\n",
    "\n",
    "matches."
   ]
  },
  {
   "cell_type": "markdown",
   "metadata": {},
   "source": [
    "### imports and helpers"
   ]
  },
  {
   "cell_type": "code",
   "execution_count": null,
   "metadata": {
    "collapsed": false
   },
   "outputs": [],
   "source": [
    "import re"
   ]
  },
  {
   "cell_type": "code",
   "execution_count": null,
   "metadata": {
    "collapsed": false
   },
   "outputs": [],
   "source": [
    "class esc_high_colors:\n",
    "    HEADER = '\\033[95m'\n",
    "    OKBLUE = '\\033[94m'\n",
    "    OKGREEN = '\\033[92m'\n",
    "    WARNING = '\\033[93m'\n",
    "    FAIL = '\\033[91m'\n",
    "    ENDC = '\\033[0m'\n",
    "    BOLD = '\\033[1m'\n",
    "    UNDERLINE = '\\033[4m'\n",
    "\n",
    "class esc_std_colors:\n",
    "    HEADER = '\\033[35m'\n",
    "    OKBLUE = '\\033[34m'\n",
    "    OKGREEN = '\\033[32m'\n",
    "    WARNING = '\\033[33m'\n",
    "    FAIL = '\\033[31m'\n",
    "    ENDC = '\\033[0m'\n",
    "    BOLD = '\\033[1m'\n",
    "    UNDERLINE = '\\033[4m'\n",
    "\n",
    "\n",
    "def p_groups(m):\n",
    "    print m.group(), (m.start(), m.end())\n",
    "    for ix, g in enumerate(m.groups()):\n",
    "        print g, (m.start(ix+1), m.end(ix+1))\n",
    "        \n",
    "def p_matches(match_iter):\n",
    "    for m in match_iter:\n",
    "        p_groups(m)\n",
    "\n",
    "\n",
    "def pf_group(group, start, end, esc_color=esc_std_colors.OKGREEN):\n",
    "    print esc_color + group.rjust(end) + esc_std_colors.ENDC \n",
    "    \n",
    "def pf_groups(m):\n",
    "    print esc_std_colors.OKBLUE + m.string + esc_std_colors.ENDC\n",
    "\n",
    "    pf_group(m.group(), m.start(), m.end(), esc_std_colors.WARNING)\n",
    "    for ix, g in enumerate(m.groups()):\n",
    "        pf_group(g, m.start(ix+1), m.end(ix+1))\n",
    "        \n",
    "def pf_matches(match_iter):\n",
    "    for m in match_iter:\n",
    "        pf_groups(m)\n",
    "    print"
   ]
  },
  {
   "cell_type": "markdown",
   "metadata": {},
   "source": [
    "## Greediness"
   ]
  },
  {
   "cell_type": "markdown",
   "metadata": {},
   "source": [
    "Is the matching algorithm always greedy?\n",
    "\n",
    "Greediness does not mean that for all patterns the algorithm proceeds to find another match and stops only at the end of the input string.\n",
    "As if the first match is never enough and it always looks for another one and another one.\n",
    "\n",
    "For patterns with no repetition qualifiers (__*__, __+__, __?__, __{n,m}__) the match algorithm is not greedy. Once the first match was found the algorithm can stop and return the result."
   ]
  },
  {
   "cell_type": "markdown",
   "metadata": {},
   "source": [
    "### string search\n",
    "\n",
    "A simple string search done with regex should not be greedy.\n",
    "It should behave like the *find* method on the *String* object."
   ]
  },
  {
   "cell_type": "code",
   "execution_count": null,
   "metadata": {
    "collapsed": false
   },
   "outputs": [],
   "source": [
    "\"first blue second blue\".find(\"blue\")"
   ]
  },
  {
   "cell_type": "code",
   "execution_count": null,
   "metadata": {
    "collapsed": true
   },
   "outputs": [],
   "source": [
    "single_word = re.compile(r'blue')"
   ]
  },
  {
   "cell_type": "code",
   "execution_count": null,
   "metadata": {
    "collapsed": false
   },
   "outputs": [],
   "source": [
    "m = single_word.search(\"first blue second blue\")\n",
    "pf_groups(m)"
   ]
  },
  {
   "cell_type": "markdown",
   "metadata": {},
   "source": [
    "### add repetition qualifiers to the regex"
   ]
  },
  {
   "cell_type": "markdown",
   "metadata": {},
   "source": [
    "All repetition qualifiers are greedy.\n",
    "\n",
    "Search for the first *a* or *b* in the input string and proceed until the first non-matching character. Be greedy."
   ]
  },
  {
   "cell_type": "code",
   "execution_count": null,
   "metadata": {
    "collapsed": true
   },
   "outputs": [],
   "source": [
    "a_or_b = re.compile(r'[ab]+')"
   ]
  },
  {
   "cell_type": "code",
   "execution_count": null,
   "metadata": {
    "collapsed": false
   },
   "outputs": [],
   "source": [
    "pf_groups( a_or_b.search(\"caabaabcaaa\") )"
   ]
  },
  {
   "cell_type": "markdown",
   "metadata": {},
   "source": [
    "The greediness of the __.*__ regex can easily be underestimated.\n",
    "\n",
    "In the below example the __.*__ pushes the __[ab]+__ pattern as far to the end of the string as possible."
   ]
  },
  {
   "cell_type": "code",
   "execution_count": null,
   "metadata": {
    "collapsed": true
   },
   "outputs": [],
   "source": [
    "dot_star = re.compile(r'.*([ab]+)')"
   ]
  },
  {
   "cell_type": "code",
   "execution_count": null,
   "metadata": {
    "collapsed": false
   },
   "outputs": [],
   "source": [
    "pf_groups( dot_star.search(\"caabaabcaa\") )"
   ]
  },
  {
   "cell_type": "markdown",
   "metadata": {},
   "source": [
    "Another example.\n",
    "Extract groups from a string. For example a name and number pair.\n",
    "\n",
    "The regex looks for two groups:\n",
    "* in the first group is the last letter of the first sequence of letters in the string which is followed, optionally separated by any character (no letters!), by at least one digit\n",
    "* in the second group is the last digit of the first sequence of digits in the string which was preceeded, optionally separated by any character (no digits!), by at least one letter.\n",
    "\n",
    "Important are the two __.\\*__ in the regex.\n",
    "They \"steal\" characters from the regex that follow them.\n",
    "Leaving only the minimal number of characters, in this case one, to each of the two groups."
   ]
  },
  {
   "cell_type": "code",
   "execution_count": null,
   "metadata": {
    "collapsed": false
   },
   "outputs": [],
   "source": [
    "letters_digits = re.compile(r'.*([a-z]+).*([0-9]+)')"
   ]
  },
  {
   "cell_type": "code",
   "execution_count": null,
   "metadata": {
    "collapsed": false
   },
   "outputs": [],
   "source": [
    "pf_groups( letters_digits.search(\"__abc__123__d\") )"
   ]
  },
  {
   "cell_type": "markdown",
   "metadata": {},
   "source": [
    "By removing the first (not required) greedy __.\\*__ the first group now matches *abc*."
   ]
  },
  {
   "cell_type": "code",
   "execution_count": null,
   "metadata": {
    "collapsed": false
   },
   "outputs": [],
   "source": [
    "letters_digits_less = re.compile(r'([a-z]+).*([0-9]+)')\n",
    "pf_groups( letters_digits_less.search(\"__abc__123__d\") )"
   ]
  },
  {
   "cell_type": "markdown",
   "metadata": {},
   "source": [
    "Replacing the second greedy __.\\*__ with \"skip everything not matching the pattern of the first or second group\"."
   ]
  },
  {
   "cell_type": "code",
   "execution_count": null,
   "metadata": {
    "collapsed": true
   },
   "outputs": [],
   "source": [
    "letters_digits_exclude = re.compile(r'([a-z]+)[^a-z0-9]*([0-9]+)')"
   ]
  },
  {
   "cell_type": "code",
   "execution_count": null,
   "metadata": {
    "collapsed": false
   },
   "outputs": [],
   "source": [
    "pf_groups( letters_digits_exclude.search(\"__abc__123__d\") )"
   ]
  },
  {
   "cell_type": "markdown",
   "metadata": {},
   "source": [
    "__Note__\n",
    "\n",
    "Think in sequences and delimiters.\n",
    "* Sequences are matching groups, the substrings the regex should extract from the string.\n",
    "* Delimiters separate the sequences from each other.\n",
    "\n",
    "In the example *ZAZB* with\n",
    "* Z = delimiter\n",
    "* A = name sequence\n",
    "* B = number sequence\n",
    "\n",
    "Make sure any greedy matching of delimiters stops at the start of any sequence."
   ]
  },
  {
   "cell_type": "markdown",
   "metadata": {},
   "source": [
    "extract all adjacent (name, number) pairs."
   ]
  },
  {
   "cell_type": "code",
   "execution_count": null,
   "metadata": {
    "collapsed": false
   },
   "outputs": [],
   "source": [
    "letters_digits_exclude.findall(\"__abc__123__d_ef_45\")"
   ]
  },
  {
   "cell_type": "markdown",
   "metadata": {},
   "source": [
    "The next pattern is easier because it has defined delimiters **_+**.\n",
    "\n",
    "The name and number pairs will be matched by the two groups:\n",
    "* letters followed by at least one digit, optionally separated by delimiter\n",
    "* digits preceeded by at least one letter, optionally separated by delimiter\n",
    "\n",
    "The greediness of __[\\_+]*__ removes delimiters of any length."
   ]
  },
  {
   "cell_type": "code",
   "execution_count": null,
   "metadata": {
    "collapsed": false
   },
   "outputs": [],
   "source": [
    "letters_digits_delimiter = re.compile(r'[_+]*([a-z]+)[_+]*([0-9]+)')"
   ]
  },
  {
   "cell_type": "code",
   "execution_count": null,
   "metadata": {
    "collapsed": false
   },
   "outputs": [],
   "source": [
    "letters_digits_delimiter.findall(\"__abc__123__d\")"
   ]
  },
  {
   "cell_type": "code",
   "execution_count": null,
   "metadata": {
    "collapsed": false
   },
   "outputs": [],
   "source": [
    "letters_digits_delimiter.findall(\"__abc__123__456__de__78\")"
   ]
  },
  {
   "cell_type": "code",
   "execution_count": null,
   "metadata": {
    "collapsed": false
   },
   "outputs": [],
   "source": [
    "letters_digits_delimiter.findall(\"__abc123de45\")"
   ]
  },
  {
   "cell_type": "code",
   "execution_count": null,
   "metadata": {
    "collapsed": false
   },
   "outputs": [],
   "source": [
    "pf_matches( letters_digits_delimiter.finditer(\"__abc123de45\") )"
   ]
  },
  {
   "cell_type": "markdown",
   "metadata": {},
   "source": [
    "## Overlapping Matches\n",
    "\n",
    "The regex algorithm finds the first or all non-overlapping matches."
   ]
  },
  {
   "cell_type": "code",
   "execution_count": null,
   "metadata": {
    "collapsed": false
   },
   "outputs": [],
   "source": [
    "only_a = re.compile(r'aa')"
   ]
  },
  {
   "cell_type": "code",
   "execution_count": null,
   "metadata": {
    "collapsed": false
   },
   "outputs": [],
   "source": [
    "only_a.findall(\"aaaa\")"
   ]
  },
  {
   "cell_type": "code",
   "execution_count": null,
   "metadata": {
    "collapsed": false
   },
   "outputs": [],
   "source": [
    "pf_matches( only_a.finditer(\"aaaa\") )"
   ]
  },
  {
   "cell_type": "code",
   "execution_count": null,
   "metadata": {
    "collapsed": false
   },
   "outputs": [],
   "source": [
    "m = only_a.search(\"aaa\")\n",
    "pf_groups(m)"
   ]
  },
  {
   "cell_type": "markdown",
   "metadata": {},
   "source": [
    "### overlap is a constant substring of fixed length"
   ]
  },
  {
   "cell_type": "markdown",
   "metadata": {},
   "source": [
    "the pattern is **ABA**.\n",
    "overlap is allowed on **A**."
   ]
  },
  {
   "cell_type": "code",
   "execution_count": null,
   "metadata": {
    "collapsed": false
   },
   "outputs": [],
   "source": [
    "pattern = re.compile(r'(?<=--)(catchme)--')"
   ]
  },
  {
   "cell_type": "code",
   "execution_count": null,
   "metadata": {
    "collapsed": false
   },
   "outputs": [],
   "source": [
    "pattern.findall(\"--catchme--catchme--catchme--__catchme--\")"
   ]
  },
  {
   "cell_type": "markdown",
   "metadata": {},
   "source": [
    "### which strings qualify for overlapping matches?\n",
    "* string of a repeated single character\n",
    "* string which repeats its start at the end"
   ]
  },
  {
   "cell_type": "markdown",
   "metadata": {},
   "source": [
    "#### match string of a repeated single letter\n",
    "\n",
    "* \"aaaaa\" -> is a match\n",
    "* \"aabaa\" -> not a match"
   ]
  },
  {
   "cell_type": "code",
   "execution_count": null,
   "metadata": {
    "collapsed": false
   },
   "outputs": [],
   "source": [
    "one = re.compile(r'^([a-z])(\\1+)$')"
   ]
  },
  {
   "cell_type": "code",
   "execution_count": null,
   "metadata": {
    "collapsed": false
   },
   "outputs": [],
   "source": [
    "one.match(\"aaaaa\").groups()"
   ]
  },
  {
   "cell_type": "code",
   "execution_count": null,
   "metadata": {
    "collapsed": false
   },
   "outputs": [],
   "source": [
    "one.findall(\"aabaa\")"
   ]
  },
  {
   "cell_type": "code",
   "execution_count": null,
   "metadata": {
    "collapsed": false
   },
   "outputs": [],
   "source": [
    "len(set(\"aaaa\")) == 1"
   ]
  },
  {
   "cell_type": "markdown",
   "metadata": {},
   "source": [
    "#### match a string which repeats its start at the end"
   ]
  },
  {
   "cell_type": "markdown",
   "metadata": {},
   "source": [
    "in general it is possible to find more than one solution.\n",
    "for 2 solutions a match could be\n",
    "* the shortest match or\n",
    "* the longest match\n",
    "\n",
    "a few examples follow."
   ]
  },
  {
   "cell_type": "code",
   "execution_count": null,
   "metadata": {
    "collapsed": false
   },
   "outputs": [],
   "source": [
    "'''\n",
    "aca\n",
    "a a\n",
    "\n",
    "abcab\n",
    "ab ab\n",
    "\n",
    "abcdabc\n",
    "abc abc\n",
    "\n",
    "ababcabab\n",
    "ab     ab\n",
    "abab abab\n",
    "\n",
    "aacaa\n",
    "a   a\n",
    "aa aa\n",
    "\n",
    "abcdeabcd\n",
    "abcd abcd\n",
    "'''\n",
    "\n",
    "examples = {\n",
    "    'basic': [\"aa\", \"aca\", \"abcab\", \"abcdabc\", \"abcdeabcd\",],\n",
    "    'greedy_start': [\"ababcabab\", \"aacaa\",],\n",
    "    'greedy_middle': [\"abababccab\",],\n",
    "    'longest': [\"abcdabcab\", \"abcdabcabab\", \"abcddddabcabab\",],\n",
    "}\n",
    "\n",
    "\n",
    "def all_solutions(word):\n",
    "    solutions = []\n",
    "    for cut in xrange(len(word)/2 +1):\n",
    "        if word[:cut] == word[-cut:]:\n",
    "            solutions.append(word[:cut])\n",
    "    return solutions\n",
    "\n",
    "def all_solutions_comprehension(word):\n",
    "    return [word[:cut] for cut in xrange(len(word)/2 +1) if word[:cut] == word[-cut:]]\n",
    "\n",
    "\n",
    "for words in examples.values():\n",
    "    for ex in words:\n",
    "        print ex, all_solutions_comprehension(ex)"
   ]
  },
  {
   "cell_type": "markdown",
   "metadata": {},
   "source": [
    "#### the shortest match\n",
    "\n",
    "the greediness of the __+__ qualifier makes it impossible to find the shortest match with a single regex."
   ]
  },
  {
   "cell_type": "code",
   "execution_count": null,
   "metadata": {
    "collapsed": true
   },
   "outputs": [],
   "source": [
    "start_repeats_at_end_shortest = re.compile(r'([a-z]+).*(\\1)')"
   ]
  },
  {
   "cell_type": "code",
   "execution_count": null,
   "metadata": {
    "collapsed": false
   },
   "outputs": [],
   "source": [
    "pf_matches(start_repeats_at_end_shortest.finditer(\"ababcabab\"))"
   ]
  },
  {
   "cell_type": "markdown",
   "metadata": {},
   "source": [
    "#### the longest match"
   ]
  },
  {
   "cell_type": "markdown",
   "metadata": {},
   "source": [
    "two greedy repetition qualifiers.\n",
    "from the examples it seems\n",
    "* same precedence\n",
    "* left-associative"
   ]
  },
  {
   "cell_type": "code",
   "execution_count": null,
   "metadata": {
    "collapsed": true
   },
   "outputs": [],
   "source": [
    "start_repeats_at_end_longest = re.compile(r'([a-z]+).*(\\1)')"
   ]
  },
  {
   "cell_type": "markdown",
   "metadata": {},
   "source": [
    "easy to match strings.\n",
    "a unique sequence at the start and it is only repeated once at the end.\n",
    "optionally the unique start and end sequence is separated by one or more characters."
   ]
  },
  {
   "cell_type": "code",
   "execution_count": null,
   "metadata": {
    "collapsed": false
   },
   "outputs": [],
   "source": [
    "for ex in examples['basic']:\n",
    "    pf_matches(start_repeats_at_end_longest.finditer(ex))"
   ]
  },
  {
   "cell_type": "markdown",
   "metadata": {},
   "source": [
    "it finds the first match for __[a-z]+__ and extends it greedily as long as it can find another identical match later in the string for the __(\\\\1)__ backreference."
   ]
  },
  {
   "cell_type": "code",
   "execution_count": null,
   "metadata": {
    "collapsed": false
   },
   "outputs": [],
   "source": [
    "for ex in examples['greedy_start']:\n",
    "    pf_matches(start_repeats_at_end_longest.finditer(ex))"
   ]
  },
  {
   "cell_type": "markdown",
   "metadata": {},
   "source": [
    "the first and longest match for __([a-z]+)__ with a required backreference __(\\\\1)__ is __ab__.\n",
    "it is not possible to extend the match of __([a-z]+)__ and still find a backreference.\n",
    "\n",
    "the greediness of __.*__ matches until the last of all possible backrefences is reached."
   ]
  },
  {
   "cell_type": "code",
   "execution_count": null,
   "metadata": {
    "collapsed": false
   },
   "outputs": [],
   "source": [
    "for ex in examples['greedy_middle']:\n",
    "    pf_matches(start_repeats_at_end_longest.finditer(ex))"
   ]
  },
  {
   "cell_type": "markdown",
   "metadata": {},
   "source": [
    "The *start_repeats_at_end_longest* has a bug.\n",
    "\n",
    "it finds the first match for __[a-z]+__ and extends it greedily as long as it can find another identical match later in the string for the __(\\\\1)__ backreference.\n",
    "\n",
    "the backreference can be anywhere later in the string. not only at the end of the string.\n",
    "even more than one match within the string is possible."
   ]
  },
  {
   "cell_type": "code",
   "execution_count": null,
   "metadata": {
    "collapsed": false
   },
   "outputs": [],
   "source": [
    "for ex in examples['longest']:\n",
    "    pf_matches(start_repeats_at_end_longest.finditer(ex))"
   ]
  },
  {
   "cell_type": "markdown",
   "metadata": {},
   "source": [
    "#### excursion - collect additional repeats of \\1 following start"
   ]
  },
  {
   "cell_type": "markdown",
   "metadata": {},
   "source": [
    "the following example has an additional __ab__ in between the identical start and end substrings.\n",
    "without any modifications the *start_repeats_at_end_longest* regex does not match it."
   ]
  },
  {
   "cell_type": "code",
   "execution_count": null,
   "metadata": {
    "collapsed": false
   },
   "outputs": [],
   "source": [
    "for m in start_repeats_at_end_longest.finditer(\"ababab\"):\n",
    "    pf_groups(m)"
   ]
  },
  {
   "cell_type": "markdown",
   "metadata": {},
   "source": [
    "another group __(\\1*)__ with a greedy repetition qualifier will collect any additional repeats after the start __A__."
   ]
  },
  {
   "cell_type": "code",
   "execution_count": null,
   "metadata": {
    "collapsed": false
   },
   "outputs": [],
   "source": [
    "start_repeats_at_end = re.compile(r'([a-z]+)(\\1*).*(\\1+)')"
   ]
  },
  {
   "cell_type": "code",
   "execution_count": null,
   "metadata": {
    "collapsed": false
   },
   "outputs": [],
   "source": [
    "pf_matches(start_repeats_at_end.finditer(\"ababab\"))"
   ]
  },
  {
   "cell_type": "code",
   "execution_count": null,
   "metadata": {
    "collapsed": false
   },
   "outputs": [],
   "source": [
    "p_matches(start_repeats_at_end.finditer(\"abababcab\"))"
   ]
  },
  {
   "cell_type": "code",
   "execution_count": null,
   "metadata": {
    "collapsed": false
   },
   "outputs": [],
   "source": [
    "p_matches(start_repeats_at_end.finditer(\"ababcabab\"))"
   ]
  },
  {
   "cell_type": "code",
   "execution_count": null,
   "metadata": {
    "collapsed": false
   },
   "outputs": [],
   "source": [
    "p_matches(start_repeats_at_end.finditer(\"abcababdabcab\"))"
   ]
  },
  {
   "cell_type": "markdown",
   "metadata": {},
   "source": [
    "### Overlapping"
   ]
  },
  {
   "cell_type": "markdown",
   "metadata": {},
   "source": [
    "* repeat one sequence only, \"aa\", \"abab\", \"abcabcabc\"\n",
    "* identical start and end sequence are separated by a different sequence\n",
    "\n",
    "the start sequence is __A__ and that sequence is the only sequence.\n",
    "the patterns are __A__, __AA__, __AAA__, ..\n",
    "there is more than one way to overlap for a given string.\n",
    "\n",
    "__A__ is again the start sequence and there is a separating sequence __B__.\n",
    "the only pattern is __ABA__.\n",
    "there is only one way to overlap for a given string.\n",
    "to find the only solution several possible overlaps might need to be tried."
   ]
  },
  {
   "cell_type": "code",
   "execution_count": null,
   "metadata": {
    "collapsed": false
   },
   "outputs": [],
   "source": [
    "'''\n",
    "ababab\n",
    "abab\n",
    "  abab\n",
    "A = ab\n",
    "\n",
    "aaaaa\n",
    "aa\n",
    " aa\n",
    "  aa\n",
    "   aa\n",
    "A=a\n",
    "\n",
    "ababababab\n",
    "ababab\n",
    "  ababab\n",
    "    ababab\n",
    "A=ab\n",
    "\n",
    "\n",
    "aacaacaa\n",
    "aacaa\n",
    "   aacaa\n",
    "A=aa\n",
    "B=c\n",
    "\n",
    "abcabcab\n",
    "abcab\n",
    "   abcab\n",
    "A=ab\n",
    "B=c\n",
    "\n",
    "ababcababcabab\n",
    "ababcabab\n",
    "     ababcabab\n",
    "A=abab\n",
    "B=c\n",
    "\n",
    "ababcabababcabab\n",
    "ababcabab\n",
    "       ababcabab\n",
    "A=abab\n",
    "B=c\n",
    "'''\n",
    "\n",
    "# (<pattern>, <data>)\n",
    "overlap_examples = [(\"abab\", \"ababab\"), (\"aacaa\", \"aacaacaa\"),\n",
    "                    (\"aa\", \"aaa\"), (\"abcab\", \"abcabcab\"),\n",
    "                    (\"ababab\", \"ababababab\"), (\"aaaa\", \"aaaaaaa\"),\n",
    "                    (\"abc\", \"aaabcaaaabc\"),\n",
    "                    (\"abaaba\", \"abaababaaba\")]"
   ]
  },
  {
   "cell_type": "markdown",
   "metadata": {},
   "source": [
    "brute-force algorithm.\n",
    "iterate over the string left to right and check for a match beginning at the current position in the string."
   ]
  },
  {
   "cell_type": "code",
   "execution_count": null,
   "metadata": {
    "collapsed": true
   },
   "outputs": [],
   "source": [
    "def findall_with_overlapping_forced(pattern, data):\n",
    "    all_matches = []\n",
    "    \n",
    "    regex = re.compile(pattern)\n",
    "    for ix in range(len(data)-len(pattern)+1):\n",
    "        m = regex.match(data, ix)\n",
    "        if m:\n",
    "            all_matches.append(m)\n",
    "\n",
    "    return all_matches"
   ]
  },
  {
   "cell_type": "code",
   "execution_count": null,
   "metadata": {
    "collapsed": false
   },
   "outputs": [],
   "source": [
    "for ex in overlap_examples:\n",
    "    pattern, data = ex\n",
    "    print pattern, data\n",
    "    \n",
    "    pf_matches(findall_with_overlapping_forced(pattern, data))"
   ]
  },
  {
   "cell_type": "markdown",
   "metadata": {},
   "source": [
    "iterate from search to search.\n",
    "after every match reset the start of the search to the character after the *start position* of the match."
   ]
  },
  {
   "cell_type": "code",
   "execution_count": null,
   "metadata": {
    "collapsed": true
   },
   "outputs": [],
   "source": [
    "def findall_with_overlapping(pattern, data):\n",
    "    all_matches = []\n",
    "    \n",
    "    regex = re.compile(pattern)\n",
    "    m = regex.search(pattern)\n",
    "    while m:\n",
    "        all_matches.append(m)\n",
    "        m = regex.search(data, m.start()+1)\n",
    "\n",
    "    return all_matches"
   ]
  },
  {
   "cell_type": "code",
   "execution_count": null,
   "metadata": {
    "collapsed": false
   },
   "outputs": [],
   "source": [
    "for ex in overlap_examples:\n",
    "    pattern, data = ex\n",
    "    print pattern, data\n",
    "    \n",
    "    pf_matches(findall_with_overlapping(pattern, data))"
   ]
  },
  {
   "cell_type": "markdown",
   "metadata": {},
   "source": [
    "__Note__\n",
    "\n",
    "regex do not support recursive patterns.\n",
    "recursion could find patterns where the pattern repeats itself within the pattern."
   ]
  },
  {
   "cell_type": "code",
   "execution_count": null,
   "metadata": {
    "collapsed": false
   },
   "outputs": [],
   "source": [
    "class OverlappingMatch(object):\n",
    "    '''\n",
    "    duck-typing a match object\n",
    "    '''\n",
    "    def __init__(self, string, group, start ,end):\n",
    "        self._groups = []\n",
    "        self._group = group\n",
    "        self._start = start\n",
    "        self._end = end\n",
    "        self.string = string\n",
    "        \n",
    "    def start(self):\n",
    "        return self._start\n",
    "    def end(self):\n",
    "        return self._end\n",
    "    def groups(self):\n",
    "        return self._groups\n",
    "    def group(self):\n",
    "        return self._group\n",
    "\n",
    "\n",
    "def _overlap_for_aa(word):\n",
    "    sequence_aa = re.compile(r'^([a-z]+)(\\1+)$')    \n",
    "    \n",
    "    def min_sequence(word):\n",
    "        m = sequence_aa.search(word)\n",
    "        if m:\n",
    "            if len(m.group(1)) < len(m.group(2)):\n",
    "                return min_sequence(m.group(1))\n",
    "            else:\n",
    "                return min_sequence(m.group(2))\n",
    "        else:\n",
    "            return word\n",
    "    \n",
    "    aa = min_sequence(word)\n",
    "    repeats = (len(word) / len(aa) - 1)\n",
    "    \n",
    "    return [aa*i for i in range(repeats, 0, -1)] if aa != word else []\n",
    "\n",
    "\n",
    "def _overlap_for_aba(word):\n",
    "    sequence_aba = re.compile(r'^([a-z]+).*(\\1)$')\n",
    "\n",
    "    def recursive_aba(word):\n",
    "        m = sequence_aba.search(word)\n",
    "        if m:\n",
    "            found = recursive_aba(m.group(1))\n",
    "            found.append(m.group(1))\n",
    "            return found\n",
    "        else:\n",
    "            return []\n",
    "    \n",
    "    return recursive_aba(word)\n",
    "\n",
    "\n",
    "def find_overlap_sequences(word):\n",
    "    '''\n",
    "    '''\n",
    "    aa = _overlap_for_aa(word)\n",
    "    aba = _overlap_for_aba(word)\n",
    "    \n",
    "    if aa and aba:\n",
    "        if set(aba) <= set(aa):\n",
    "            return aa\n",
    "        else:\n",
    "            return aba\n",
    "    elif not aa and aba:\n",
    "        return aba\n",
    "    elif aa and not aba:\n",
    "        return aa\n",
    "    else:\n",
    "        return []\n",
    "\n",
    "\n",
    "def find_overlapping(data, pattern, overlaps, non_overlapping):\n",
    "    '''\n",
    "    '''\n",
    "    overlapping = []\n",
    "    \n",
    "    for non_overlap in non_overlapping:\n",
    "        for overlap in overlaps:\n",
    "            start = non_overlap.start()\n",
    "            end = non_overlap.end() + len(pattern) - len(overlap)\n",
    "\n",
    "            if data[start:end] == non_overlap.group() + pattern[len(overlap):]:\n",
    "                m = OverlappingMatch(non_overlap.string,\n",
    "                                     data[end - len(pattern) : end],\n",
    "                                     end - len(pattern),\n",
    "                                     end)\n",
    "                overlapping.append(m)\n",
    "    \n",
    "    return overlapping\n",
    "\n",
    "\n",
    "def findall_with_overlapping(ex):\n",
    "    pattern, data = ex\n",
    "    print pattern, data\n",
    "    \n",
    "    overlap_seq = find_overlap_sequences(pattern)\n",
    "    \n",
    "    regex = re.compile(pattern)\n",
    "    non_overlaps = [m for m in regex.finditer(data)]\n",
    "    \n",
    "    overlaps = []\n",
    "    if overlap_seq and non_overlaps:\n",
    "        overlaps = find_overlapping(data, pattern, overlap_seq, non_overlaps)\n",
    "    \n",
    "    return non_overlaps + overlaps"
   ]
  },
  {
   "cell_type": "code",
   "execution_count": null,
   "metadata": {
    "collapsed": false
   },
   "outputs": [],
   "source": [
    "for ex in overlap_examples:\n",
    "    pf_matches(findall_with_overlapping(ex))"
   ]
  },
  {
   "cell_type": "markdown",
   "metadata": {},
   "source": [
    "## matching algorithm - open questions"
   ]
  },
  {
   "cell_type": "markdown",
   "metadata": {},
   "source": [
    "expected matches __abab__ and __abab__"
   ]
  },
  {
   "cell_type": "code",
   "execution_count": null,
   "metadata": {
    "collapsed": true
   },
   "outputs": [],
   "source": [
    "repeat_ab = re.compile(r'(ab+).*(\\1)')"
   ]
  },
  {
   "cell_type": "code",
   "execution_count": null,
   "metadata": {
    "collapsed": false
   },
   "outputs": [],
   "source": [
    "pf_matches( repeat_ab.finditer(\"ababcabab\") )"
   ]
  },
  {
   "cell_type": "markdown",
   "metadata": {},
   "source": [
    "changing repeated group expression to __(\\\\1+)__ gives same matches"
   ]
  },
  {
   "cell_type": "code",
   "execution_count": null,
   "metadata": {
    "collapsed": true
   },
   "outputs": [],
   "source": [
    "repeat_ab_plus = re.compile(r'(ab+).*(\\1+)')"
   ]
  },
  {
   "cell_type": "code",
   "execution_count": null,
   "metadata": {
    "collapsed": false
   },
   "outputs": [],
   "source": [
    "pf_matches( repeat_ab_plus.finditer(\"ababcabab\") )"
   ]
  },
  {
   "cell_type": "markdown",
   "metadata": {},
   "source": [
    "__(ab)(\\\\1\\*)__ is not equal to __(ab+)__"
   ]
  },
  {
   "cell_type": "code",
   "execution_count": null,
   "metadata": {
    "collapsed": true
   },
   "outputs": [],
   "source": [
    "repeat_ab_extra_group = re.compile(r'(ab)(\\1*).*(\\1)')"
   ]
  },
  {
   "cell_type": "code",
   "execution_count": null,
   "metadata": {
    "collapsed": false
   },
   "outputs": [],
   "source": [
    "pf_matches( repeat_ab_extra_group.finditer(\"ababcabab\") )"
   ]
  },
  {
   "cell_type": "markdown",
   "metadata": {},
   "source": [
    "__(ab)+__ is not equal to __(ab+)__"
   ]
  },
  {
   "cell_type": "code",
   "execution_count": null,
   "metadata": {
    "collapsed": true
   },
   "outputs": [],
   "source": [
    "repeat_ab_hard_in = re.compile(r'(ab+).*(ab+)')"
   ]
  },
  {
   "cell_type": "code",
   "execution_count": null,
   "metadata": {
    "collapsed": false
   },
   "outputs": [],
   "source": [
    "pf_matches( repeat_ab_hard_in.finditer(\"ababcabab\") )"
   ]
  },
  {
   "cell_type": "code",
   "execution_count": null,
   "metadata": {
    "collapsed": true
   },
   "outputs": [],
   "source": [
    "repeat_ab_hard_out = re.compile(r'(ab)+.*(ab)+')"
   ]
  },
  {
   "cell_type": "code",
   "execution_count": null,
   "metadata": {
    "collapsed": false
   },
   "outputs": [],
   "source": [
    "pf_matches( repeat_ab_hard_out.finditer(\"ababcabab\") )"
   ]
  }
 ],
 "metadata": {
  "kernelspec": {
   "display_name": "Python 2",
   "language": "python",
   "name": "python2"
  },
  "language_info": {
   "codemirror_mode": {
    "name": "ipython",
    "version": 2
   },
   "file_extension": ".py",
   "mimetype": "text/x-python",
   "name": "python",
   "nbconvert_exporter": "python",
   "pygments_lexer": "ipython2",
   "version": "2.7.12+"
  }
 },
 "nbformat": 4,
 "nbformat_minor": 0
}
