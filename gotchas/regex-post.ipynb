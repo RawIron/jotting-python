{
 "cells": [
  {
   "cell_type": "markdown",
   "metadata": {},
   "source": [
    "# Python Regex - greediness and overlapping matches"
   ]
  },
  {
   "cell_type": "markdown",
   "metadata": {},
   "source": [
    "Learning regular expressions in Python in most cases starts with simple patterns for match, search or replace.\n",
    "Once those basic patterns are second nature the more advanced patterns want to be mastered.\n",
    "And for those a look into the regex matching algorithm is a good start.\n",
    "\n",
    "The regex matching algorithm does\n",
    "* greedy repetition qualifier\n",
    "* non-overlapping\n",
    "\n",
    "matches."
   ]
  },
  {
   "cell_type": "markdown",
   "metadata": {},
   "source": [
    "### imports and helpers"
   ]
  },
  {
   "cell_type": "code",
   "execution_count": null,
   "metadata": {
    "collapsed": false
   },
   "outputs": [],
   "source": [
    "import re"
   ]
  },
  {
   "cell_type": "code",
   "execution_count": null,
   "metadata": {
    "collapsed": false
   },
   "outputs": [],
   "source": [
    "class esc_high_colors:\n",
    "    HEADER = '\\033[95m'\n",
    "    OKBLUE = '\\033[94m'\n",
    "    OKGREEN = '\\033[92m'\n",
    "    WARNING = '\\033[93m'\n",
    "    FAIL = '\\033[91m'\n",
    "    ENDC = '\\033[0m'\n",
    "    BOLD = '\\033[1m'\n",
    "    UNDERLINE = '\\033[4m'\n",
    "\n",
    "class esc_std_colors:\n",
    "    HEADER = '\\033[35m'\n",
    "    OKBLUE = '\\033[34m'\n",
    "    OKGREEN = '\\033[32m'\n",
    "    WARNING = '\\033[33m'\n",
    "    FAIL = '\\033[31m'\n",
    "    ENDC = '\\033[0m'\n",
    "    BOLD = '\\033[1m'\n",
    "    UNDERLINE = '\\033[4m'\n",
    "\n",
    "\n",
    "def p_groups(m):\n",
    "    print m.group(), (m.start(), m.end())\n",
    "    for ix, g in enumerate(m.groups()):\n",
    "        print g, (m.start(ix+1), m.end(ix+1))\n",
    "        \n",
    "def p_matches(match_iter):\n",
    "    for m in match_iter:\n",
    "        p_groups(m)\n",
    "\n",
    "\n",
    "def pf_group(group, start, end, esc_color=esc_std_colors.OKGREEN):\n",
    "    print esc_color + group.rjust(end) + esc_std_colors.ENDC\n",
    "    #print \" \" * start + str((start, end)).ljust(end - start)  \n",
    "    \n",
    "def pf_groups(m):\n",
    "    print esc_std_colors.OKBLUE + m.string + esc_std_colors.ENDC\n",
    "    \n",
    "    pf_group(m.group(), m.start(), m.end(), esc_std_colors.WARNING)\n",
    "    for ix, g in enumerate(m.groups()):\n",
    "        pf_group(g, m.start(ix+1), m.end(ix+1))\n",
    "        \n",
    "def pf_matches(match_iter):\n",
    "    for m in match_iter:\n",
    "        pf_groups(m)"
   ]
  },
  {
   "cell_type": "markdown",
   "metadata": {},
   "source": [
    "## Greediness"
   ]
  },
  {
   "cell_type": "markdown",
   "metadata": {},
   "source": [
    "Is the matching algorithm always greedy?\n",
    "\n",
    "Greediness does not mean that for all patterns the algorithm proceeds to find another match and stops only at the end of the input string.\n",
    "As if the first match is never enough and it always looks for another one and another one.\n",
    "\n",
    "For patterns with no repetition qualifiers (__*__, __+__, __?__) greed is not making much sense. Once the first match was found the algorithm can stop and return the result."
   ]
  },
  {
   "cell_type": "markdown",
   "metadata": {},
   "source": [
    "### string search\n",
    "\n",
    "A simple string search done with regex should not be greedy.\n",
    "It should behave like the *find* method on the *String* object."
   ]
  },
  {
   "cell_type": "code",
   "execution_count": null,
   "metadata": {
    "collapsed": false
   },
   "outputs": [],
   "source": [
    "\"first blue second blue\".find(\"blue\")"
   ]
  },
  {
   "cell_type": "code",
   "execution_count": null,
   "metadata": {
    "collapsed": true
   },
   "outputs": [],
   "source": [
    "single_word = re.compile(r'blue')"
   ]
  },
  {
   "cell_type": "code",
   "execution_count": null,
   "metadata": {
    "collapsed": false
   },
   "outputs": [],
   "source": [
    "m = single_word.search(\"first blue second blue\")\n",
    "pf_groups(m)"
   ]
  },
  {
   "cell_type": "markdown",
   "metadata": {},
   "source": [
    "### add repetition qualifiers to the regex"
   ]
  },
  {
   "cell_type": "markdown",
   "metadata": {},
   "source": [
    "All repetition qualifiers are greedy.\n",
    "\n",
    "Search for the first *a* or *b* in the input string and proceed until the first non-matching character. Be greedy."
   ]
  },
  {
   "cell_type": "code",
   "execution_count": null,
   "metadata": {
    "collapsed": true
   },
   "outputs": [],
   "source": [
    "a_or_b = re.compile(r'[ab]+')"
   ]
  },
  {
   "cell_type": "code",
   "execution_count": null,
   "metadata": {
    "collapsed": false
   },
   "outputs": [],
   "source": [
    "a_or_b.search(\"caabaabcaaa\").group()"
   ]
  },
  {
   "cell_type": "markdown",
   "metadata": {},
   "source": [
    "the greediness of the __.*__ regex can easily be underestimated.\n",
    "\n",
    "In the below example the __.*__ pushes the __[ab]+__ pattern as far to the end of the string as possible."
   ]
  },
  {
   "cell_type": "code",
   "execution_count": null,
   "metadata": {
    "collapsed": true
   },
   "outputs": [],
   "source": [
    "dot_star = re.compile(r'.*[ab]+')"
   ]
  },
  {
   "cell_type": "code",
   "execution_count": null,
   "metadata": {
    "collapsed": false
   },
   "outputs": [],
   "source": [
    "dot_star.search(\"caabaabcaa\").group()"
   ]
  },
  {
   "cell_type": "markdown",
   "metadata": {},
   "source": [
    "Another example.\n",
    "Extract groups from a string. For example a name and number pair.\n",
    "\n",
    "The regex looks for two groups:\n",
    "* in the first group is the last letter followed by at least one digit (separated by any character)\n",
    "* second group the last digit when there was at least one letter in front\n",
    "\n",
    "Important are the two **.\\*** in the regex.\n",
    "They \"steal\" characters from the regex that follow them.\n",
    "Leaving only the minimal number of characters, in this case one, to each of the two groups."
   ]
  },
  {
   "cell_type": "code",
   "execution_count": null,
   "metadata": {
    "collapsed": false
   },
   "outputs": [],
   "source": [
    "letters_digits = re.compile(r'.*([a-z]+).*([0-9]+)')"
   ]
  },
  {
   "cell_type": "code",
   "execution_count": null,
   "metadata": {
    "collapsed": false
   },
   "outputs": [],
   "source": [
    "letters_digits.findall(\"__abc__123__d\")"
   ]
  },
  {
   "cell_type": "code",
   "execution_count": null,
   "metadata": {
    "collapsed": false
   },
   "outputs": [],
   "source": [
    "pf_groups( letters_digits.match(\"__abc__123__d\") )"
   ]
  },
  {
   "cell_type": "markdown",
   "metadata": {},
   "source": [
    "To get the correct result the __.__ is changed to the defined delimiters **_+**\n",
    "\n",
    "the name and number pairs will be matched by the two groups:\n",
    "* letters followed by at least one digit, optionally separated by delimiter\n",
    "* digits preceeded by at least one letter, optionally separated by delimiter\n",
    "\n",
    "the greediness of __[\\_+]*__ removes sequences of delimiters of any length."
   ]
  },
  {
   "cell_type": "code",
   "execution_count": null,
   "metadata": {
    "collapsed": false
   },
   "outputs": [],
   "source": [
    "letters_digits_delimiter = re.compile(r'[_+]*([a-z]+)[_+]*([0-9]+)')"
   ]
  },
  {
   "cell_type": "code",
   "execution_count": null,
   "metadata": {
    "collapsed": false
   },
   "outputs": [],
   "source": [
    "letters_digits_delimiter.findall(\"__abc__123__d\")"
   ]
  },
  {
   "cell_type": "code",
   "execution_count": null,
   "metadata": {
    "collapsed": false
   },
   "outputs": [],
   "source": [
    "letters_digits_delimiter.findall(\"__abc__123__456__de__78\")"
   ]
  },
  {
   "cell_type": "code",
   "execution_count": null,
   "metadata": {
    "collapsed": false
   },
   "outputs": [],
   "source": [
    "letters_digits_delimiter.findall(\"__abc123de45\")"
   ]
  },
  {
   "cell_type": "code",
   "execution_count": null,
   "metadata": {
    "collapsed": false
   },
   "outputs": [],
   "source": [
    "for m in letters_digits_delimiter.finditer(\"__abc123de45\"):\n",
    "    p_groups(m)"
   ]
  },
  {
   "cell_type": "markdown",
   "metadata": {},
   "source": [
    "## Overlapping Matches\n",
    "\n",
    "The regex algorithm finds the first or all non-overlapping matches."
   ]
  },
  {
   "cell_type": "code",
   "execution_count": null,
   "metadata": {
    "collapsed": false
   },
   "outputs": [],
   "source": [
    "only_a = re.compile(r'aa')"
   ]
  },
  {
   "cell_type": "code",
   "execution_count": null,
   "metadata": {
    "collapsed": false
   },
   "outputs": [],
   "source": [
    "only_a.findall(\"aaaa\")"
   ]
  },
  {
   "cell_type": "code",
   "execution_count": null,
   "metadata": {
    "collapsed": false
   },
   "outputs": [],
   "source": [
    "for m in only_a.finditer(\"aaaa\"):\n",
    "    p_groups(m)"
   ]
  },
  {
   "cell_type": "code",
   "execution_count": null,
   "metadata": {
    "collapsed": false
   },
   "outputs": [],
   "source": [
    "m = only_a.search(\"aaa\")\n",
    "p_groups(m)"
   ]
  },
  {
   "cell_type": "markdown",
   "metadata": {},
   "source": [
    "### which strings qualify for overlapping matches?\n",
    "* string of a single character\n",
    "* string which repeats its start at the end"
   ]
  },
  {
   "cell_type": "markdown",
   "metadata": {},
   "source": [
    "#### match string of a single letter\n",
    "\n",
    "* \"aaaaa\" -> is a match\n",
    "* \"aabaa\" -> not a match"
   ]
  },
  {
   "cell_type": "code",
   "execution_count": null,
   "metadata": {
    "collapsed": false
   },
   "outputs": [],
   "source": [
    "one = re.compile(r'^([a-z])(\\1+)$')"
   ]
  },
  {
   "cell_type": "code",
   "execution_count": null,
   "metadata": {
    "collapsed": false
   },
   "outputs": [],
   "source": [
    "one.match(\"aaaaa\").groups()"
   ]
  },
  {
   "cell_type": "code",
   "execution_count": null,
   "metadata": {
    "collapsed": false
   },
   "outputs": [],
   "source": [
    "one.findall(\"aabaa\")"
   ]
  },
  {
   "cell_type": "code",
   "execution_count": null,
   "metadata": {
    "collapsed": false
   },
   "outputs": [],
   "source": [
    "len(set(\"aaaa\")) == 1"
   ]
  },
  {
   "cell_type": "markdown",
   "metadata": {},
   "source": [
    "#### match a string which repeats its start at the end"
   ]
  },
  {
   "cell_type": "markdown",
   "metadata": {},
   "source": [
    "it is possible to find more than one solution.\n",
    "\n",
    "in case of at least 2 solutions the matches always include\n",
    "* the shortest match\n",
    "* the longest match\n",
    "\n",
    "a few examples follow."
   ]
  },
  {
   "cell_type": "code",
   "execution_count": null,
   "metadata": {
    "collapsed": false
   },
   "outputs": [],
   "source": [
    "'''\n",
    "aca\n",
    "a a\n",
    "\n",
    "abcab\n",
    "ab ab\n",
    "\n",
    "abcdabc\n",
    "abc abc\n",
    "\n",
    "ababcabab\n",
    "ab     ab\n",
    "abab abab\n",
    "\n",
    "aacaa\n",
    "a   a\n",
    "aa aa\n",
    "\n",
    "abcdeabcd\n",
    "abcd abcd\n",
    "'''\n",
    "\n",
    "examples = [\"aa\", \"aca\", \"abcab\", \"abcdabc\", \"ababcabab\", \"aacaa\",\n",
    "            \"abcdeabcd\", \"abababccab\"]\n",
    "\n",
    "def all_solutions(word):\n",
    "    solutions = []\n",
    "    for cut in xrange(len(word)/2 +1):\n",
    "        if word[:cut] == word[-cut:]:\n",
    "            solutions.append(word[:cut])\n",
    "    return solutions\n",
    "\n",
    "def all_solutions_comprehension(word):\n",
    "    return [word[:cut] for cut in xrange(len(word)/2 +1) if word[:cut] == word[-cut:]]\n",
    "\n",
    "\n",
    "for ex in examples:\n",
    "    print ex, all_solutions_comprehension(ex)"
   ]
  },
  {
   "cell_type": "markdown",
   "metadata": {},
   "source": [
    "__.*__ as explained earlier likes to \"steal\" from other terms in the regex."
   ]
  },
  {
   "cell_type": "code",
   "execution_count": null,
   "metadata": {
    "collapsed": true
   },
   "outputs": [],
   "source": [
    "start_repeats_at_end_shortest = re.compile(r'([a-z]).*(\\1)')"
   ]
  },
  {
   "cell_type": "markdown",
   "metadata": {},
   "source": [
    "to get the longest match"
   ]
  },
  {
   "cell_type": "code",
   "execution_count": null,
   "metadata": {
    "collapsed": true
   },
   "outputs": [],
   "source": [
    "start_repeats_at_end_longest = re.compile(r'([a-z]+).*(\\1+)')"
   ]
  },
  {
   "cell_type": "code",
   "execution_count": null,
   "metadata": {
    "collapsed": false
   },
   "outputs": [],
   "source": [
    "for ex in examples:\n",
    "    p_matches(start_repeats_at_end_longest.finditer(ex))"
   ]
  },
  {
   "cell_type": "markdown",
   "metadata": {},
   "source": [
    "#### anything else ..."
   ]
  },
  {
   "cell_type": "markdown",
   "metadata": {},
   "source": [
    "the example shows that the __ab__ in the middle is not in the match."
   ]
  },
  {
   "cell_type": "code",
   "execution_count": null,
   "metadata": {
    "collapsed": false
   },
   "outputs": [],
   "source": [
    "for m in start_repeats_at_end_longest.finditer(\"ababab\"):\n",
    "    pf_groups(m)"
   ]
  },
  {
   "cell_type": "markdown",
   "metadata": {},
   "source": [
    "tame greediness with greediness.\n",
    "instead of leaving all characters after the start sequence to __.*__ the __(\\1)*__ greedy repetition qualifier can take a pick from the string first."
   ]
  },
  {
   "cell_type": "code",
   "execution_count": null,
   "metadata": {
    "collapsed": false
   },
   "outputs": [],
   "source": [
    "start_repeats_at_end = re.compile(r'([a-z]+)(\\1*).*(\\1+)')"
   ]
  },
  {
   "cell_type": "code",
   "execution_count": null,
   "metadata": {
    "collapsed": false
   },
   "outputs": [],
   "source": [
    "p_matches(start_repeats_at_end.finditer(\"ababab\"))"
   ]
  },
  {
   "cell_type": "code",
   "execution_count": null,
   "metadata": {
    "collapsed": false
   },
   "outputs": [],
   "source": [
    "p_matches(start_repeats_at_end.finditer(\"ababcab\"))"
   ]
  },
  {
   "cell_type": "code",
   "execution_count": null,
   "metadata": {
    "collapsed": false
   },
   "outputs": [],
   "source": [
    "p_matches(start_repeats_at_end.finditer(\"ababcabab\"))"
   ]
  },
  {
   "cell_type": "code",
   "execution_count": null,
   "metadata": {
    "collapsed": false
   },
   "outputs": [],
   "source": [
    "p_matches(start_repeats_at_end.finditer(\"abcabdabcab\"))"
   ]
  },
  {
   "cell_type": "markdown",
   "metadata": {},
   "source": [
    "### Overlapping"
   ]
  },
  {
   "cell_type": "markdown",
   "metadata": {},
   "source": [
    "* repeat one sequence only, \"aa\", \"abab\", \"abcabcabc\"\n",
    "* identical start and end sequence are separated by a different sequence\n",
    "\n",
    "the start sequence is __A__ and that sequence is the only sequence.\n",
    "the patterns are __A__, __AA__, __AAA__, ..\n",
    "there is more than one way to overlap for a given string.\n",
    "\n",
    "__A__ is again the start sequence and there is a separating sequence __B__.\n",
    "the only pattern is __ABA__.\n",
    "there is only one way to overlap for a given string.\n",
    "to find the only solution several possible overlaps might need to be tried."
   ]
  },
  {
   "cell_type": "code",
   "execution_count": null,
   "metadata": {
    "collapsed": false
   },
   "outputs": [],
   "source": [
    "'''\n",
    "ababab\n",
    "abab\n",
    "  abab\n",
    "A = ab\n",
    "\n",
    "aaaaa\n",
    "aa\n",
    " aa\n",
    "  aa\n",
    "   aa\n",
    "A=a\n",
    "\n",
    "ababababab\n",
    "ababab\n",
    "  ababab\n",
    "    ababab\n",
    "A=ab\n",
    "\n",
    "\n",
    "aacaacaa\n",
    "aacaa\n",
    "   aacaa\n",
    "A=aa\n",
    "B=c\n",
    "\n",
    "abcabcab\n",
    "abcab\n",
    "   abcab\n",
    "A=ab\n",
    "B=c\n",
    "'''\n",
    "\n",
    "overlap_examples = [(\"abab\", \"ababab\"), (\"aacaa\", \"aacaacaa\"),\n",
    "                    (\"aa\", \"aaa\"), (\"abcab\", \"abcabcab\"),\n",
    "                    (\"ababab\", \"ababababab\")]\n",
    "\n"
   ]
  },
  {
   "cell_type": "code",
   "execution_count": null,
   "metadata": {
    "collapsed": false
   },
   "outputs": [],
   "source": [
    "'''\n",
    "ababcababcabab\n",
    "ababcabab\n",
    "     ababcabab\n",
    "\n",
    "ababcabababcabab\n",
    "ababcabab\n",
    "       ababcabab\n",
    "'''\n",
    "\n",
    "more_examples = []"
   ]
  },
  {
   "cell_type": "code",
   "execution_count": null,
   "metadata": {
    "collapsed": true
   },
   "outputs": [],
   "source": [
    "repeat_ab = re.compile(r'(ab)(\\1*).*(\\1+)')"
   ]
  },
  {
   "cell_type": "code",
   "execution_count": null,
   "metadata": {
    "collapsed": false
   },
   "outputs": [],
   "source": [
    "p_matches( repeat_ab.finditer(\"ababcabab\") )"
   ]
  },
  {
   "cell_type": "code",
   "execution_count": null,
   "metadata": {
    "collapsed": true
   },
   "outputs": [],
   "source": [
    "repeat_ab = re.compile(r'(ab+).*(ab+)')"
   ]
  },
  {
   "cell_type": "code",
   "execution_count": null,
   "metadata": {
    "collapsed": false
   },
   "outputs": [],
   "source": [
    "p_matches( repeat_ab.finditer(\"ababcabab\") )"
   ]
  },
  {
   "cell_type": "code",
   "execution_count": null,
   "metadata": {
    "collapsed": true
   },
   "outputs": [],
   "source": [
    "repeat_ab = re.compile(r'(ab)+.*(ab)+')"
   ]
  },
  {
   "cell_type": "code",
   "execution_count": null,
   "metadata": {
    "collapsed": false
   },
   "outputs": [],
   "source": [
    "p_matches( repeat_ab.finditer(\"ababcabab\") )"
   ]
  }
 ],
 "metadata": {
  "kernelspec": {
   "display_name": "Python 2",
   "language": "python",
   "name": "python2"
  },
  "language_info": {
   "codemirror_mode": {
    "name": "ipython",
    "version": 2
   },
   "file_extension": ".py",
   "mimetype": "text/x-python",
   "name": "python",
   "nbconvert_exporter": "python",
   "pygments_lexer": "ipython2",
   "version": "2.7.12+"
  }
 },
 "nbformat": 4,
 "nbformat_minor": 0
}
