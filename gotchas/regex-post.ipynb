{
 "cells": [
  {
   "cell_type": "markdown",
   "metadata": {},
   "source": [
    "# Python Regex - greediness and overlapping matches"
   ]
  },
  {
   "cell_type": "markdown",
   "metadata": {},
   "source": [
    "Learning regular expressions in Python in most cases starts with simple match, search or replace applications.\n",
    "Once those basic patterns are second nature the more advanced patterns are next.\n",
    "And for those it helps to look into the regex matching algorithm.\n",
    "\n",
    "The regex matching algorithm is\n",
    "* greedy for repetition qualifiers\n",
    "* non-overlapping"
   ]
  },
  {
   "cell_type": "markdown",
   "metadata": {},
   "source": [
    "### imports and helpers"
   ]
  },
  {
   "cell_type": "code",
   "execution_count": null,
   "metadata": {
    "collapsed": false
   },
   "outputs": [],
   "source": [
    "import re"
   ]
  },
  {
   "cell_type": "code",
   "execution_count": null,
   "metadata": {
    "collapsed": true
   },
   "outputs": [],
   "source": [
    "def p_groups(m):\n",
    "    print m.group(), (m.start(), m.end())\n",
    "    for ix, g in enumerate(m.groups()):\n",
    "        print g, (m.start(ix+1), m.end(ix+1))\n",
    "        \n",
    "\n",
    "def p_matches(match_iter):\n",
    "    for m in match_iter:\n",
    "        p_groups(m)"
   ]
  },
  {
   "cell_type": "markdown",
   "metadata": {},
   "source": [
    "## Greediness"
   ]
  },
  {
   "cell_type": "markdown",
   "metadata": {},
   "source": [
    "Is the matching algorithm always greedy?\n",
    "\n",
    "Greediness does not mean that for all patterns the algorithm proceeds to find another match and stops only at the end of the input string.\n",
    "It is like as if the first match is not enough it always looks for another one and another one.\n",
    "\n",
    "For patterns with no repetition qualifiers (__*__, __+__, __?__) greed is not making much sense. Once the first match was found the algorithm can stop and return the result."
   ]
  },
  {
   "cell_type": "markdown",
   "metadata": {},
   "source": [
    "### string search\n",
    "\n",
    "A simple string search done with regex should not be greedy.\n",
    "It should behave like the *find* method on the *String* object."
   ]
  },
  {
   "cell_type": "code",
   "execution_count": null,
   "metadata": {
    "collapsed": false
   },
   "outputs": [],
   "source": [
    "\"first blue second blue\".find(\"blue\")"
   ]
  },
  {
   "cell_type": "code",
   "execution_count": null,
   "metadata": {
    "collapsed": true
   },
   "outputs": [],
   "source": [
    "single_word = re.compile(r'blue')"
   ]
  },
  {
   "cell_type": "code",
   "execution_count": null,
   "metadata": {
    "collapsed": false
   },
   "outputs": [],
   "source": [
    "m = single_word.search(\"first blue second blue\")\n",
    "m.start(), m.end()"
   ]
  },
  {
   "cell_type": "markdown",
   "metadata": {},
   "source": [
    "### add repetition qualifiers to the regex"
   ]
  },
  {
   "cell_type": "markdown",
   "metadata": {},
   "source": [
    "All repetition qualifiers are greedy.\n",
    "\n",
    "Search for the first *a* or *b* in the input string and proceed until the first non-matching character. Be greedy."
   ]
  },
  {
   "cell_type": "code",
   "execution_count": null,
   "metadata": {
    "collapsed": true
   },
   "outputs": [],
   "source": [
    "a_or_b = re.compile(r'[ab]+')"
   ]
  },
  {
   "cell_type": "code",
   "execution_count": null,
   "metadata": {
    "collapsed": false
   },
   "outputs": [],
   "source": [
    "a_or_b.search(\"caabaabcaaa\").group()"
   ]
  },
  {
   "cell_type": "markdown",
   "metadata": {},
   "source": [
    "__.*__ is a greedy monster.\n",
    "\n",
    "In the below example the __.*__ pushes the __[ab]+__ pattern as far to the end of the string as possible."
   ]
  },
  {
   "cell_type": "code",
   "execution_count": null,
   "metadata": {
    "collapsed": true
   },
   "outputs": [],
   "source": [
    "dot_star_monster = re.compile(r'.*[ab]+')"
   ]
  },
  {
   "cell_type": "code",
   "execution_count": null,
   "metadata": {
    "collapsed": false
   },
   "outputs": [],
   "source": [
    "dot_star_monster.search(\"caabaabcaa\").group()"
   ]
  },
  {
   "cell_type": "markdown",
   "metadata": {},
   "source": [
    "Another example.\n",
    "Extract groups from a string. For example a name and number pair.\n",
    "\n",
    "The regex looks for two groups:\n",
    "* in the first group is the last letter followed by at least one digit (separated by any character)\n",
    "* second group the last digit when there was at least one letter in front\n",
    "\n",
    "Important are the two **.\\*** in the regex.\n",
    "They \"steal\" characters from the regex that follow them.\n",
    "Leaving only the minimal number of characters, in this case one, to each of the two groups."
   ]
  },
  {
   "cell_type": "code",
   "execution_count": null,
   "metadata": {
    "collapsed": false
   },
   "outputs": [],
   "source": [
    "letters_digits = re.compile(r'.*([a-z]+).*([0-9]+)')"
   ]
  },
  {
   "cell_type": "code",
   "execution_count": null,
   "metadata": {
    "collapsed": false
   },
   "outputs": [],
   "source": [
    "letters_digits.findall(\"__abc__123__d\")"
   ]
  },
  {
   "cell_type": "code",
   "execution_count": null,
   "metadata": {
    "collapsed": false
   },
   "outputs": [],
   "source": [
    "letters_digits.match(\"__abc__123__d\").groups()"
   ]
  },
  {
   "cell_type": "markdown",
   "metadata": {},
   "source": [
    "To get the correct result the __.__ is changed to the defined delimiters **_+**\n",
    "\n",
    "the name and number pairs will be matched by the two groups:\n",
    "* letters followed by at least one digit, optionally separated by delimiter\n",
    "* digits preceeded by at least one letter, optionally separated by delimiter\n",
    "\n",
    "the greediness of __[\\_+]*__ removes sequences of delimiters of any length."
   ]
  },
  {
   "cell_type": "code",
   "execution_count": null,
   "metadata": {
    "collapsed": false
   },
   "outputs": [],
   "source": [
    "letters_digits_delimiter = re.compile(r'[_+]*([a-z]+)[_+]*([0-9]+)')"
   ]
  },
  {
   "cell_type": "code",
   "execution_count": null,
   "metadata": {
    "collapsed": false
   },
   "outputs": [],
   "source": [
    "letters_digits_delimiter.findall(\"__abc__123__d\")"
   ]
  },
  {
   "cell_type": "code",
   "execution_count": null,
   "metadata": {
    "collapsed": false
   },
   "outputs": [],
   "source": [
    "letters_digits_delimiter.findall(\"__abc__123__456__de__78\")"
   ]
  },
  {
   "cell_type": "code",
   "execution_count": null,
   "metadata": {
    "collapsed": false
   },
   "outputs": [],
   "source": [
    "letters_digits_delimiter.findall(\"__abc123de45\")"
   ]
  },
  {
   "cell_type": "code",
   "execution_count": null,
   "metadata": {
    "collapsed": false
   },
   "outputs": [],
   "source": [
    "for m in letters_digits_delimiter.finditer(\"__abc123de45\"):\n",
    "    p_groups(m)"
   ]
  },
  {
   "cell_type": "markdown",
   "metadata": {},
   "source": [
    "## Overlapping Matches\n",
    "\n",
    "The regex algorithm finds the first or all non-overlapping matches."
   ]
  },
  {
   "cell_type": "code",
   "execution_count": null,
   "metadata": {
    "collapsed": false
   },
   "outputs": [],
   "source": [
    "only_a = re.compile(r'aa')"
   ]
  },
  {
   "cell_type": "code",
   "execution_count": null,
   "metadata": {
    "collapsed": false
   },
   "outputs": [],
   "source": [
    "only_a.findall(\"aaaa\")"
   ]
  },
  {
   "cell_type": "code",
   "execution_count": null,
   "metadata": {
    "collapsed": false
   },
   "outputs": [],
   "source": [
    "for m in only_a.finditer(\"aaaa\"):\n",
    "    p_groups(m)"
   ]
  },
  {
   "cell_type": "code",
   "execution_count": null,
   "metadata": {
    "collapsed": false
   },
   "outputs": [],
   "source": [
    "m = only_a.search(\"aaa\")\n",
    "p_groups(m)"
   ]
  },
  {
   "cell_type": "markdown",
   "metadata": {},
   "source": [
    "which strings qualify for overlapping matches?\n",
    "* string of a single character\n",
    "* string repeating its start at the end"
   ]
  },
  {
   "cell_type": "markdown",
   "metadata": {},
   "source": [
    "### match string of a single letter\n",
    "\n",
    "* \"aaaaa\" -> is a match\n",
    "* \"aabaa\" -> not a match"
   ]
  },
  {
   "cell_type": "code",
   "execution_count": null,
   "metadata": {
    "collapsed": false
   },
   "outputs": [],
   "source": [
    "one = re.compile(r'^([a-z])(\\1+)$')"
   ]
  },
  {
   "cell_type": "code",
   "execution_count": null,
   "metadata": {
    "collapsed": false
   },
   "outputs": [],
   "source": [
    "one.match(\"aaaaa\").groups()"
   ]
  },
  {
   "cell_type": "code",
   "execution_count": null,
   "metadata": {
    "collapsed": false
   },
   "outputs": [],
   "source": [
    "one.findall(\"aabaa\")"
   ]
  },
  {
   "cell_type": "code",
   "execution_count": null,
   "metadata": {
    "collapsed": false
   },
   "outputs": [],
   "source": [
    "len(set(\"aaaa\")) == 1"
   ]
  },
  {
   "cell_type": "markdown",
   "metadata": {},
   "source": [
    "### match string repeating its start at the end"
   ]
  },
  {
   "cell_type": "code",
   "execution_count": null,
   "metadata": {
    "collapsed": true
   },
   "outputs": [],
   "source": [
    "'''\n",
    "aca\n",
    "a a\n",
    "\n",
    "abcab\n",
    "ab ab\n",
    "\n",
    "abcdabc\n",
    "abc abc\n",
    "\n",
    "ababcabab\n",
    "ab     ab\n",
    "abab abab\n",
    "\n",
    "aacaa\n",
    "a   a\n",
    "aa aa\n",
    "\n",
    "abcdeabcd\n",
    "abcd abcd\n",
    "'''"
   ]
  },
  {
   "cell_type": "code",
   "execution_count": null,
   "metadata": {
    "collapsed": true
   },
   "outputs": [],
   "source": [
    "start_repeats_at_end_wrongly = re.compile(r'([a-z]+).*(\\1+)')"
   ]
  },
  {
   "cell_type": "code",
   "execution_count": null,
   "metadata": {
    "collapsed": false
   },
   "outputs": [],
   "source": [
    "for m in start_repeats_at_end_wrongly.finditer(\"abababccab\"):\n",
    "    p_groups(m)"
   ]
  },
  {
   "cell_type": "markdown",
   "metadata": {},
   "source": [
    "__.*__ as explained earlier likes to \"steal\" from other terms in the regex.\n",
    "\n",
    "the example shows that the __ab__ in the middle is wrongly not in the match."
   ]
  },
  {
   "cell_type": "code",
   "execution_count": null,
   "metadata": {
    "collapsed": false
   },
   "outputs": [],
   "source": [
    "for m in start_repeats_at_end_wrongly.finditer(\"ababab\"):\n",
    "    p_groups(m)"
   ]
  },
  {
   "cell_type": "markdown",
   "metadata": {},
   "source": [
    "tame a greedy monster with another greedy creature.\n",
    "instead of leaving all characters after the start sequence to __.*__ the __(\\1)*__ greedy repetition qualifier can take a pick from the string first."
   ]
  },
  {
   "cell_type": "code",
   "execution_count": null,
   "metadata": {
    "collapsed": false
   },
   "outputs": [],
   "source": [
    "start_repeats_at_end = re.compile(r'([a-z]+)(\\1)*.*(\\1+)')"
   ]
  },
  {
   "cell_type": "code",
   "execution_count": null,
   "metadata": {
    "collapsed": false
   },
   "outputs": [],
   "source": [
    "for m in start_repeats_at_end.finditer(\"ababab\"):\n",
    "    p_groups(m)"
   ]
  },
  {
   "cell_type": "code",
   "execution_count": null,
   "metadata": {
    "collapsed": false
   },
   "outputs": [],
   "source": [
    "for m in start_repeats_at_end.finditer(\"ababcab\"):\n",
    "    p_groups(m)"
   ]
  },
  {
   "cell_type": "markdown",
   "metadata": {},
   "source": [
    "### Overlapping"
   ]
  },
  {
   "cell_type": "code",
   "execution_count": null,
   "metadata": {
    "collapsed": true
   },
   "outputs": [],
   "source": [
    "'''\n",
    "ababab\n",
    "abab\n",
    "  abab\n",
    "\n",
    "aacaacaa\n",
    "aacaa\n",
    "   aacaa\n",
    "\n",
    "aaa\n",
    "aa\n",
    " aa\n",
    "\n",
    "abcabcab\n",
    "abcab\n",
    "   abcab\n",
    "\n",
    "ababababab\n",
    "ababab\n",
    "  ababab\n",
    "    ababab\n",
    "'''"
   ]
  },
  {
   "cell_type": "code",
   "execution_count": null,
   "metadata": {
    "collapsed": true
   },
   "outputs": [],
   "source": [
    "repeat_ab = re.compile(r'(ab)(\\1*).*(\\1+)')"
   ]
  },
  {
   "cell_type": "code",
   "execution_count": null,
   "metadata": {
    "collapsed": false
   },
   "outputs": [],
   "source": [
    "p_matches( repeat_ab.finditer(\"ababcabab\") )"
   ]
  },
  {
   "cell_type": "code",
   "execution_count": null,
   "metadata": {
    "collapsed": true
   },
   "outputs": [],
   "source": [
    "repeat_ab = re.compile(r'(ab+).*(ab+)')"
   ]
  },
  {
   "cell_type": "code",
   "execution_count": null,
   "metadata": {
    "collapsed": false
   },
   "outputs": [],
   "source": [
    "p_matches( repeat_ab.finditer(\"ababcabab\") )"
   ]
  },
  {
   "cell_type": "code",
   "execution_count": null,
   "metadata": {
    "collapsed": true
   },
   "outputs": [],
   "source": [
    "repeat_ab = re.compile(r'(ab)+.*(ab)+')"
   ]
  },
  {
   "cell_type": "code",
   "execution_count": null,
   "metadata": {
    "collapsed": false
   },
   "outputs": [],
   "source": [
    "p_matches( repeat_ab.finditer(\"ababcabab\") )"
   ]
  }
 ],
 "metadata": {
  "kernelspec": {
   "display_name": "Python 2",
   "language": "python",
   "name": "python2"
  },
  "language_info": {
   "codemirror_mode": {
    "name": "ipython",
    "version": 2
   },
   "file_extension": ".py",
   "mimetype": "text/x-python",
   "name": "python",
   "nbconvert_exporter": "python",
   "pygments_lexer": "ipython2",
   "version": "2.7.12+"
  }
 },
 "nbformat": 4,
 "nbformat_minor": 0
}
