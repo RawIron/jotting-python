{
 "cells": [
  {
   "cell_type": "code",
   "execution_count": 28,
   "metadata": {
    "collapsed": false
   },
   "outputs": [
    {
     "data": {
      "text/plain": [
       "7"
      ]
     },
     "execution_count": 28,
     "metadata": {},
     "output_type": "execute_result"
    }
   ],
   "source": [
    "import re\n",
    "import string\n",
    "\n",
    "def longest_streak(s):\n",
    "    s = string.lower(s)\n",
    "    pattern = re.compile(r'([a-z])(\\1+)')\n",
    "    all_streaks = [m.group() for m in pattern.finditer(s)]\n",
    "    return max(map(lambda x: len(x), all_streaks))\n",
    "\n",
    "longest_streak(\"aaabbcdddddDd\")"
   ]
  },
  {
   "cell_type": "code",
   "execution_count": 30,
   "metadata": {
    "collapsed": false
   },
   "outputs": [
    {
     "data": {
      "text/plain": [
       "defaultdict(<type 'int'>, {'a': 3, 'c': 1, 'b': 2, 'd': 7})"
      ]
     },
     "execution_count": 30,
     "metadata": {},
     "output_type": "execute_result"
    }
   ],
   "source": [
    "from collections import defaultdict\n",
    "\n",
    "def char_freq(s):\n",
    "    d = defaultdict(int)\n",
    "    s = string.lower(s)\n",
    "    for c in s:\n",
    "        d[c] += 1\n",
    "    return d\n",
    "\n",
    "char_freq(\"aaabbcdddddDd\")"
   ]
  },
  {
   "cell_type": "code",
   "execution_count": 21,
   "metadata": {
    "collapsed": true
   },
   "outputs": [],
   "source": [
    "def is_palindrom(s):\n",
    "    return s.reverse() == s"
   ]
  }
 ],
 "metadata": {
  "kernelspec": {
   "display_name": "Python 2",
   "language": "python",
   "name": "python2"
  },
  "language_info": {
   "codemirror_mode": {
    "name": "ipython",
    "version": 2
   },
   "file_extension": ".py",
   "mimetype": "text/x-python",
   "name": "python",
   "nbconvert_exporter": "python",
   "pygments_lexer": "ipython2",
   "version": "2.7.12+"
  }
 },
 "nbformat": 4,
 "nbformat_minor": 0
}
