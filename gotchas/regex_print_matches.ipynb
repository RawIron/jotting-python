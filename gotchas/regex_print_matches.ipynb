{
 "cells": [
  {
   "cell_type": "markdown",
   "metadata": {},
   "source": [
    "# print matches of a regex *finditer()*"
   ]
  },
  {
   "cell_type": "markdown",
   "metadata": {},
   "source": [
    "print the results of substring search in a string.\n",
    "using regex for the search."
   ]
  },
  {
   "cell_type": "code",
   "execution_count": null,
   "metadata": {
    "collapsed": true
   },
   "outputs": [],
   "source": [
    "import re\n",
    "pattern = re.compile(r'find_me')"
   ]
  },
  {
   "cell_type": "markdown",
   "metadata": {},
   "source": [
    "## the *print_matches* code"
   ]
  },
  {
   "cell_type": "markdown",
   "metadata": {},
   "source": [
    "support various ways to print the matches.\n",
    "start with redundant code.\n",
    "\n",
    "this is hard to read.\n",
    "it takes the longest time to see the *structure of the code*."
   ]
  },
  {
   "cell_type": "code",
   "execution_count": null,
   "metadata": {
    "collapsed": true
   },
   "outputs": [],
   "source": [
    "class esc_high_colors:\n",
    "    HEADER = '\\033[95m'\n",
    "    OKBLUE = '\\033[94m'\n",
    "    OKGREEN = '\\033[92m'\n",
    "    WARNING = '\\033[93m'\n",
    "    FAIL = '\\033[91m'\n",
    "    ENDC = '\\033[0m'\n",
    "    BOLD = '\\033[1m'\n",
    "    UNDERLINE = '\\033[4m'\n",
    "\n",
    "class esc_std_colors:\n",
    "    HEADER = '\\033[35m'\n",
    "    OKBLUE = '\\033[34m'\n",
    "    OKGREEN = '\\033[32m'\n",
    "    WARNING = '\\033[33m'\n",
    "    FAIL = '\\033[31m'\n",
    "    ENDC = '\\033[0m'\n",
    "    BOLD = '\\033[1m'\n",
    "    UNDERLINE = '\\033[4m'\n",
    "\n",
    "\n",
    "def p_groups(m):\n",
    "    print m.group(), (m.start(), m.end())\n",
    "    for ix, g in enumerate(m.groups()):\n",
    "        print g, (m.start(ix+1), m.end(ix+1))\n",
    "        \n",
    "def p_matches(match_iter):\n",
    "    for m in match_iter:\n",
    "        p_groups(m)\n",
    "\n",
    "\n",
    "def pf_group(group, start, end, esc_color=esc_std_colors.OKGREEN):\n",
    "    print esc_color + group.rjust(end) + esc_std_colors.ENDC \n",
    "    \n",
    "def pf_groups(m):\n",
    "    print esc_std_colors.OKBLUE + m.string + esc_std_colors.ENDC\n",
    "\n",
    "    pf_group(m.group(), m.start(), m.end(), esc_std_colors.WARNING)\n",
    "    for ix, g in enumerate(m.groups()):\n",
    "        pf_group(g, m.start(ix+1), m.end(ix+1))\n",
    "        \n",
    "def pf_matches(match_iter):\n",
    "    for m in match_iter:\n",
    "        pf_groups(m)"
   ]
  },
  {
   "cell_type": "raw",
   "metadata": {},
   "source": [
    "output of the *print_matches* looks like this:"
   ]
  },
  {
   "cell_type": "code",
   "execution_count": null,
   "metadata": {
    "collapsed": false
   },
   "outputs": [],
   "source": [
    "m = pattern.finditer(\"find_me_at_a_sercret_place_find_me\")\n",
    "pf_matches(m)"
   ]
  },
  {
   "cell_type": "code",
   "execution_count": null,
   "metadata": {
    "collapsed": false
   },
   "outputs": [],
   "source": [
    "m = pattern.finditer(\"find_me_at_a_sercret_place_find_me\")\n",
    "p_matches(m)"
   ]
  },
  {
   "cell_type": "markdown",
   "metadata": {},
   "source": [
    "## refactor *p_matches()* and *pf_matches()*"
   ]
  },
  {
   "cell_type": "markdown",
   "metadata": {},
   "source": [
    "### wrapper function"
   ]
  },
  {
   "cell_type": "markdown",
   "metadata": {},
   "source": [
    "call *pf_matches* with a *print_groups* function.\n",
    "provide a default for *print_groups*.\n",
    "\n",
    "*p_matches* becomes a wrapper around *pf_matches*.\n",
    "\n",
    "redundancy in the *matches* functions is gone.\n",
    "readability might be a tiny bit better."
   ]
  },
  {
   "cell_type": "code",
   "execution_count": null,
   "metadata": {
    "collapsed": false
   },
   "outputs": [],
   "source": [
    "def p_matches(match_iter):\n",
    "    pf_matches(match_iter, p_groups)\n",
    "        \n",
    "def pf_matches(match_iter, print_groups=pf_groups):\n",
    "    for m in match_iter:\n",
    "        print_groups(m)"
   ]
  },
  {
   "cell_type": "code",
   "execution_count": null,
   "metadata": {
    "collapsed": false
   },
   "outputs": [],
   "source": [
    "m = pattern.finditer(\"find_me_at_a_sercret_place_find_me\")\n",
    "pf_matches(m)"
   ]
  },
  {
   "cell_type": "markdown",
   "metadata": {},
   "source": [
    "introduce a new private function *_p_matches*.\n",
    "\n",
    "both public functions become a wrapper around *_p_matches*.\n",
    "\n",
    "readability is better: two functions share code. obviously."
   ]
  },
  {
   "cell_type": "code",
   "execution_count": null,
   "metadata": {
    "collapsed": true
   },
   "outputs": [],
   "source": [
    "def _p_matches(match_iter, print_groups):\n",
    "    for m in match_iter:\n",
    "        print_groups(m)\n",
    "\n",
    "def p_matches(match_iter):\n",
    "    _p_matches(match_iter, p_groups)\n",
    "\n",
    "def pf_matches(match_iter):\n",
    "    _p_matches(match_iter, pf_groups)"
   ]
  },
  {
   "cell_type": "code",
   "execution_count": null,
   "metadata": {
    "collapsed": false
   },
   "outputs": [],
   "source": [
    "m = pattern.finditer(\"find_me_at_a_sercret_place_find_me\")\n",
    "pf_matches(m)"
   ]
  },
  {
   "cell_type": "markdown",
   "metadata": {},
   "source": [
    "### factory function"
   ]
  },
  {
   "cell_type": "code",
   "execution_count": null,
   "metadata": {
    "collapsed": false
   },
   "outputs": [],
   "source": [
    "def create_print(print_groups):\n",
    "    \n",
    "    def _p_matches(match_iter):\n",
    "        for m in match_iter:\n",
    "            print_groups(m)\n",
    "    \n",
    "    return _p_matches\n",
    "\n",
    "p_matches = create_print(p_groups)\n",
    "pf_matches = create_print(pf_groups)"
   ]
  },
  {
   "cell_type": "code",
   "execution_count": null,
   "metadata": {
    "collapsed": false
   },
   "outputs": [],
   "source": [
    "m = pattern.finditer(\"find_me_at_a_sercret_place_find_me\")\n",
    "pf_matches(m)"
   ]
  },
  {
   "cell_type": "markdown",
   "metadata": {},
   "source": [
    "again the factory function pattern.\n",
    "\n",
    "change the code to use the *functools* module."
   ]
  },
  {
   "cell_type": "code",
   "execution_count": null,
   "metadata": {
    "collapsed": true
   },
   "outputs": [],
   "source": [
    "import functools as fp\n",
    "\n",
    "def _p_matches(match_iter, p_func=p_groups):\n",
    "    for m in match_iter:\n",
    "        p_func(m)\n",
    "\n",
    "p_matches = fp.partial(_p_matches, p_func=p_groups)\n",
    "pf_matches = fp.partial(_p_matches, p_func=pf_groups)"
   ]
  },
  {
   "cell_type": "code",
   "execution_count": null,
   "metadata": {
    "collapsed": false
   },
   "outputs": [],
   "source": [
    "m = pattern.finditer(\"find_me_at_a_sercret_place_find_me\")\n",
    "pf_matches(m)"
   ]
  },
  {
   "cell_type": "markdown",
   "metadata": {},
   "source": [
    "### dependency injection"
   ]
  },
  {
   "cell_type": "markdown",
   "metadata": {},
   "source": [
    "without the *inject* code, just the *print_matches* code, there is nothing in the code to *install* one of the *p_func* implementations within *p_matches*."
   ]
  },
  {
   "cell_type": "code",
   "execution_count": null,
   "metadata": {
    "collapsed": false
   },
   "outputs": [],
   "source": [
    "import inject\n",
    "\n",
    "def match_printer():\n",
    "    pass\n",
    "\n",
    "def create_pf():\n",
    "    return pf_groups\n",
    "\n",
    "def create_p():\n",
    "    return p_groups\n",
    "\n",
    "def pf_print(binder):\n",
    "    binder.bind_to_provider(match_printer, create_pf)\n",
    "\n",
    "inject.clear()\n",
    "inject.configure(pf_print)\n",
    "\n",
    "p_func = inject.instance(match_printer)"
   ]
  },
  {
   "cell_type": "code",
   "execution_count": null,
   "metadata": {
    "collapsed": true
   },
   "outputs": [],
   "source": [
    "def p_matches(match_iter):\n",
    "    for m in match_iter:\n",
    "        p_func(m)"
   ]
  },
  {
   "cell_type": "code",
   "execution_count": null,
   "metadata": {
    "collapsed": false
   },
   "outputs": [],
   "source": [
    "m = pattern.finditer(\"find_me_at_a_sercret_place_find_me\")\n",
    "p_matches(m)"
   ]
  }
 ],
 "metadata": {
  "kernelspec": {
   "display_name": "Python 2",
   "language": "python",
   "name": "python2"
  },
  "language_info": {
   "codemirror_mode": {
    "name": "ipython",
    "version": 2
   },
   "file_extension": ".py",
   "mimetype": "text/x-python",
   "name": "python",
   "nbconvert_exporter": "python",
   "pygments_lexer": "ipython2",
   "version": "2.7.12+"
  }
 },
 "nbformat": 4,
 "nbformat_minor": 0
}
